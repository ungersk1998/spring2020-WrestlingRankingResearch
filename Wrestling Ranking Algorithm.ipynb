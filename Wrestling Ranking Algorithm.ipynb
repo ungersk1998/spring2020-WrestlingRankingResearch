{
 "cells": [
  {
   "cell_type": "code",
   "execution_count": 2,
   "metadata": {},
   "outputs": [],
   "source": [
    "import pandas as pd\n",
    "import numpy as np\n",
    "\n",
    "from elote import EloCompetitor, LambdaArena\n",
    "\n",
    "import matplotlib.pyplot as plt\n",
    "\n",
    "import random\n",
    "import math"
   ]
  },
  {
   "cell_type": "code",
   "execution_count": 3,
   "metadata": {},
   "outputs": [],
   "source": [
    "# Load in full matches and wrestlers dataframes\n",
    "full_matches = pd.read_csv('MATCHES.csv').drop(columns=\"Unnamed: 0\")\n",
    "full_wrestlers = pd.read_csv('WRESTLERS.csv').drop(columns=\"Unnamed: 0\")"
   ]
  },
  {
   "cell_type": "code",
   "execution_count": 4,
   "metadata": {},
   "outputs": [
    {
     "data": {
      "text/plain": [
       "(13652, 20)"
      ]
     },
     "execution_count": 4,
     "metadata": {},
     "output_type": "execute_result"
    }
   ],
   "source": [
    "full_matches.shape # number of matches, recorded match variables"
   ]
  },
  {
   "cell_type": "code",
   "execution_count": 5,
   "metadata": {},
   "outputs": [
    {
     "data": {
      "text/plain": [
       "Index(['Weight Class', 'Victory Type (L)', 'Victory Type (S)', 'Winner Score',\n",
       "       'Loser Score', 'Winner First Name', 'Winner Last Name',\n",
       "       'Winner School (L)', 'Winner School (S)', 'Loser First Name',\n",
       "       'Loser Last Name', 'Loser School (L)', 'Loser School (S)',\n",
       "       'Unknown (Seed?)', 'Round', 'Event Name', 'Event ID', 'Event Date',\n",
       "       'Winner Full Name', 'Loser Full Name'],\n",
       "      dtype='object')"
      ]
     },
     "execution_count": 5,
     "metadata": {},
     "output_type": "execute_result"
    }
   ],
   "source": [
    "full_matches.columns"
   ]
  },
  {
   "cell_type": "code",
   "execution_count": 6,
   "metadata": {},
   "outputs": [
    {
     "data": {
      "text/html": [
       "<div>\n",
       "<style scoped>\n",
       "    .dataframe tbody tr th:only-of-type {\n",
       "        vertical-align: middle;\n",
       "    }\n",
       "\n",
       "    .dataframe tbody tr th {\n",
       "        vertical-align: top;\n",
       "    }\n",
       "\n",
       "    .dataframe thead th {\n",
       "        text-align: right;\n",
       "    }\n",
       "</style>\n",
       "<table border=\"1\" class=\"dataframe\">\n",
       "  <thead>\n",
       "    <tr style=\"text-align: right;\">\n",
       "      <th></th>\n",
       "      <th>Weight Class</th>\n",
       "      <th>Victory Type (L)</th>\n",
       "      <th>Victory Type (S)</th>\n",
       "      <th>Winner Score</th>\n",
       "      <th>Loser Score</th>\n",
       "      <th>Winner First Name</th>\n",
       "      <th>Winner Last Name</th>\n",
       "      <th>Winner School (L)</th>\n",
       "      <th>Winner School (S)</th>\n",
       "      <th>Loser First Name</th>\n",
       "      <th>Loser Last Name</th>\n",
       "      <th>Loser School (L)</th>\n",
       "      <th>Loser School (S)</th>\n",
       "      <th>Unknown (Seed?)</th>\n",
       "      <th>Round</th>\n",
       "      <th>Event Name</th>\n",
       "      <th>Event ID</th>\n",
       "      <th>Event Date</th>\n",
       "      <th>Winner Full Name</th>\n",
       "      <th>Loser Full Name</th>\n",
       "    </tr>\n",
       "  </thead>\n",
       "  <tbody>\n",
       "    <tr>\n",
       "      <th>0</th>\n",
       "      <td>285</td>\n",
       "      <td>Decision</td>\n",
       "      <td>Dec</td>\n",
       "      <td>0</td>\n",
       "      <td>4</td>\n",
       "      <td>Spencer</td>\n",
       "      <td>Dickinson</td>\n",
       "      <td>Whitehall-Fort Ann HS</td>\n",
       "      <td>WSH</td>\n",
       "      <td>Cody</td>\n",
       "      <td>Wilson</td>\n",
       "      <td>Albion HS</td>\n",
       "      <td>ALHS</td>\n",
       "      <td>15.0</td>\n",
       "      <td>Cons. Semis</td>\n",
       "      <td>NYSPHSAA D2 Wrestling Championships</td>\n",
       "      <td>4998204132</td>\n",
       "      <td>20200228</td>\n",
       "      <td>Spencer Dickinson</td>\n",
       "      <td>Cody Wilson</td>\n",
       "    </tr>\n",
       "    <tr>\n",
       "      <th>1</th>\n",
       "      <td>285</td>\n",
       "      <td>Fall</td>\n",
       "      <td>Fall</td>\n",
       "      <td>0</td>\n",
       "      <td>2</td>\n",
       "      <td>Spencer</td>\n",
       "      <td>Dickinson</td>\n",
       "      <td>Whitehall-Fort Ann HS</td>\n",
       "      <td>WSH</td>\n",
       "      <td>George</td>\n",
       "      <td>Lebberes</td>\n",
       "      <td>Ardsley</td>\n",
       "      <td>ARDS</td>\n",
       "      <td>15.0</td>\n",
       "      <td>Quarterfinals</td>\n",
       "      <td>NYSPHSAA D2 Wrestling Championships</td>\n",
       "      <td>4998204132</td>\n",
       "      <td>20200228</td>\n",
       "      <td>Spencer Dickinson</td>\n",
       "      <td>George Lebberes</td>\n",
       "    </tr>\n",
       "    <tr>\n",
       "      <th>2</th>\n",
       "      <td>285</td>\n",
       "      <td>Decision</td>\n",
       "      <td>Dec</td>\n",
       "      <td>3</td>\n",
       "      <td>1</td>\n",
       "      <td>Spencer</td>\n",
       "      <td>Dickinson</td>\n",
       "      <td>Whitehall-Fort Ann HS</td>\n",
       "      <td>WSH</td>\n",
       "      <td>Connor</td>\n",
       "      <td>Bushey</td>\n",
       "      <td>Beekmantown Sr HS</td>\n",
       "      <td>BSH</td>\n",
       "      <td>15.0</td>\n",
       "      <td>Champ. Round 1</td>\n",
       "      <td>NYSPHSAA D2 Wrestling Championships</td>\n",
       "      <td>4998204132</td>\n",
       "      <td>20200228</td>\n",
       "      <td>Spencer Dickinson</td>\n",
       "      <td>Connor Bushey</td>\n",
       "    </tr>\n",
       "    <tr>\n",
       "      <th>3</th>\n",
       "      <td>120</td>\n",
       "      <td>Fall</td>\n",
       "      <td>Fall</td>\n",
       "      <td>0</td>\n",
       "      <td>0</td>\n",
       "      <td>Patrick</td>\n",
       "      <td>Stinebaugh</td>\n",
       "      <td>Horace Mann School</td>\n",
       "      <td>HMS</td>\n",
       "      <td>Mason</td>\n",
       "      <td>Bush</td>\n",
       "      <td>Central Valley Academy</td>\n",
       "      <td>CVA</td>\n",
       "      <td>4.0</td>\n",
       "      <td>NaN</td>\n",
       "      <td>NYSPHSAA D2 Wrestling Championships</td>\n",
       "      <td>4998204132</td>\n",
       "      <td>20200228</td>\n",
       "      <td>Patrick Stinebaugh</td>\n",
       "      <td>Mason Bush</td>\n",
       "    </tr>\n",
       "    <tr>\n",
       "      <th>4</th>\n",
       "      <td>152</td>\n",
       "      <td>Fall</td>\n",
       "      <td>Fall</td>\n",
       "      <td>0</td>\n",
       "      <td>0</td>\n",
       "      <td>Liam</td>\n",
       "      <td>Futterman</td>\n",
       "      <td>Horace Mann School</td>\n",
       "      <td>HMS</td>\n",
       "      <td>Xavier</td>\n",
       "      <td>Giles</td>\n",
       "      <td>Eagle Academy Bronx-PSAL</td>\n",
       "      <td>EABX</td>\n",
       "      <td>9.0</td>\n",
       "      <td>NaN</td>\n",
       "      <td>NYSPHSAA D2 Wrestling Championships</td>\n",
       "      <td>4998204132</td>\n",
       "      <td>20200228</td>\n",
       "      <td>Liam Futterman</td>\n",
       "      <td>Xavier Giles</td>\n",
       "    </tr>\n",
       "    <tr>\n",
       "      <th>...</th>\n",
       "      <td>...</td>\n",
       "      <td>...</td>\n",
       "      <td>...</td>\n",
       "      <td>...</td>\n",
       "      <td>...</td>\n",
       "      <td>...</td>\n",
       "      <td>...</td>\n",
       "      <td>...</td>\n",
       "      <td>...</td>\n",
       "      <td>...</td>\n",
       "      <td>...</td>\n",
       "      <td>...</td>\n",
       "      <td>...</td>\n",
       "      <td>...</td>\n",
       "      <td>...</td>\n",
       "      <td>...</td>\n",
       "      <td>...</td>\n",
       "      <td>...</td>\n",
       "      <td>...</td>\n",
       "      <td>...</td>\n",
       "    </tr>\n",
       "    <tr>\n",
       "      <th>13647</th>\n",
       "      <td>220</td>\n",
       "      <td>Fall</td>\n",
       "      <td>Fall</td>\n",
       "      <td>0</td>\n",
       "      <td>3</td>\n",
       "      <td>Michael</td>\n",
       "      <td>Vandenburgh</td>\n",
       "      <td>Whitehall-Fort Ann HS</td>\n",
       "      <td>WSH</td>\n",
       "      <td>Marquize</td>\n",
       "      <td>Barmore</td>\n",
       "      <td>Schenectady</td>\n",
       "      <td>SCHE</td>\n",
       "      <td>14.0</td>\n",
       "      <td>3rd Place Match</td>\n",
       "      <td>`Coach Ken Baker Classic`</td>\n",
       "      <td>5040653132</td>\n",
       "      <td>20200131</td>\n",
       "      <td>Michael Vandenburgh</td>\n",
       "      <td>Marquize Barmore</td>\n",
       "    </tr>\n",
       "    <tr>\n",
       "      <th>13648</th>\n",
       "      <td>285</td>\n",
       "      <td>Fall</td>\n",
       "      <td>Fall</td>\n",
       "      <td>0</td>\n",
       "      <td>2</td>\n",
       "      <td>Kane</td>\n",
       "      <td>Losurdo</td>\n",
       "      <td>Red Hook Sr HS</td>\n",
       "      <td>RHSH</td>\n",
       "      <td>Spencer</td>\n",
       "      <td>Dickinson</td>\n",
       "      <td>Whitehall-Fort Ann HS</td>\n",
       "      <td>WSH</td>\n",
       "      <td>15.0</td>\n",
       "      <td>Quarterfinals</td>\n",
       "      <td>`Coach Ken Baker Classic`</td>\n",
       "      <td>5040653132</td>\n",
       "      <td>20200131</td>\n",
       "      <td>Kane Losurdo</td>\n",
       "      <td>Spencer Dickinson</td>\n",
       "    </tr>\n",
       "    <tr>\n",
       "      <th>13649</th>\n",
       "      <td>285</td>\n",
       "      <td>Fall</td>\n",
       "      <td>Fall</td>\n",
       "      <td>1</td>\n",
       "      <td>7</td>\n",
       "      <td>Conner</td>\n",
       "      <td>Pesce</td>\n",
       "      <td>Ichabod Crane Sr HS</td>\n",
       "      <td>ICSH</td>\n",
       "      <td>Spencer</td>\n",
       "      <td>Dickinson</td>\n",
       "      <td>Whitehall-Fort Ann HS</td>\n",
       "      <td>WSH</td>\n",
       "      <td>15.0</td>\n",
       "      <td>Semifinals</td>\n",
       "      <td>`Coach Ken Baker Classic`</td>\n",
       "      <td>5040653132</td>\n",
       "      <td>20200131</td>\n",
       "      <td>Conner Pesce</td>\n",
       "      <td>Spencer Dickinson</td>\n",
       "    </tr>\n",
       "    <tr>\n",
       "      <th>13650</th>\n",
       "      <td>285</td>\n",
       "      <td>Decision</td>\n",
       "      <td>Dec</td>\n",
       "      <td>4</td>\n",
       "      <td>1</td>\n",
       "      <td>Spencer</td>\n",
       "      <td>Dickinson</td>\n",
       "      <td>Whitehall-Fort Ann HS</td>\n",
       "      <td>WSH</td>\n",
       "      <td>Andrew</td>\n",
       "      <td>Dumas</td>\n",
       "      <td>Schuylerville-Greenwich Sr HS</td>\n",
       "      <td>SCGW</td>\n",
       "      <td>15.0</td>\n",
       "      <td>1st Place Match</td>\n",
       "      <td>`Coach Ken Baker Classic`</td>\n",
       "      <td>5040653132</td>\n",
       "      <td>20200131</td>\n",
       "      <td>Spencer Dickinson</td>\n",
       "      <td>Andrew Dumas</td>\n",
       "    </tr>\n",
       "    <tr>\n",
       "      <th>13651</th>\n",
       "      <td>145</td>\n",
       "      <td>Fall</td>\n",
       "      <td>Fall</td>\n",
       "      <td>13</td>\n",
       "      <td>0</td>\n",
       "      <td>Colby</td>\n",
       "      <td>Shepard</td>\n",
       "      <td>Stevens</td>\n",
       "      <td>STE</td>\n",
       "      <td>Emma</td>\n",
       "      <td>Morris</td>\n",
       "      <td>Burr &amp; Burton</td>\n",
       "      <td>B&amp;B</td>\n",
       "      <td>8.0</td>\n",
       "      <td>Cons. Round 1</td>\n",
       "      <td>Mt.Mansville</td>\n",
       "      <td>5445973132</td>\n",
       "      <td>20200201</td>\n",
       "      <td>Colby Shepard</td>\n",
       "      <td>Emma Morris</td>\n",
       "    </tr>\n",
       "  </tbody>\n",
       "</table>\n",
       "<p>13652 rows × 20 columns</p>\n",
       "</div>"
      ],
      "text/plain": [
       "       Weight Class Victory Type (L) Victory Type (S)  Winner Score  \\\n",
       "0               285         Decision              Dec             0   \n",
       "1               285             Fall             Fall             0   \n",
       "2               285         Decision              Dec             3   \n",
       "3               120             Fall             Fall             0   \n",
       "4               152             Fall             Fall             0   \n",
       "...             ...              ...              ...           ...   \n",
       "13647           220             Fall             Fall             0   \n",
       "13648           285             Fall             Fall             0   \n",
       "13649           285             Fall             Fall             1   \n",
       "13650           285         Decision              Dec             4   \n",
       "13651           145             Fall             Fall            13   \n",
       "\n",
       "       Loser Score Winner First Name Winner Last Name      Winner School (L)  \\\n",
       "0                4           Spencer        Dickinson  Whitehall-Fort Ann HS   \n",
       "1                2           Spencer        Dickinson  Whitehall-Fort Ann HS   \n",
       "2                1           Spencer        Dickinson  Whitehall-Fort Ann HS   \n",
       "3                0           Patrick       Stinebaugh     Horace Mann School   \n",
       "4                0              Liam        Futterman     Horace Mann School   \n",
       "...            ...               ...              ...                    ...   \n",
       "13647            3           Michael      Vandenburgh  Whitehall-Fort Ann HS   \n",
       "13648            2              Kane          Losurdo         Red Hook Sr HS   \n",
       "13649            7            Conner            Pesce    Ichabod Crane Sr HS   \n",
       "13650            1           Spencer        Dickinson  Whitehall-Fort Ann HS   \n",
       "13651            0             Colby          Shepard                Stevens   \n",
       "\n",
       "      Winner School (S) Loser First Name Loser Last Name  \\\n",
       "0                   WSH             Cody          Wilson   \n",
       "1                   WSH           George        Lebberes   \n",
       "2                   WSH           Connor          Bushey   \n",
       "3                   HMS            Mason            Bush   \n",
       "4                   HMS           Xavier           Giles   \n",
       "...                 ...              ...             ...   \n",
       "13647               WSH         Marquize         Barmore   \n",
       "13648              RHSH          Spencer       Dickinson   \n",
       "13649              ICSH          Spencer       Dickinson   \n",
       "13650               WSH           Andrew           Dumas   \n",
       "13651               STE             Emma          Morris   \n",
       "\n",
       "                    Loser School (L) Loser School (S)  Unknown (Seed?)  \\\n",
       "0                          Albion HS             ALHS             15.0   \n",
       "1                            Ardsley             ARDS             15.0   \n",
       "2                  Beekmantown Sr HS              BSH             15.0   \n",
       "3             Central Valley Academy              CVA              4.0   \n",
       "4           Eagle Academy Bronx-PSAL             EABX              9.0   \n",
       "...                              ...              ...              ...   \n",
       "13647                    Schenectady             SCHE             14.0   \n",
       "13648          Whitehall-Fort Ann HS              WSH             15.0   \n",
       "13649          Whitehall-Fort Ann HS              WSH             15.0   \n",
       "13650  Schuylerville-Greenwich Sr HS             SCGW             15.0   \n",
       "13651                  Burr & Burton              B&B              8.0   \n",
       "\n",
       "                 Round                           Event Name    Event ID  \\\n",
       "0          Cons. Semis  NYSPHSAA D2 Wrestling Championships  4998204132   \n",
       "1        Quarterfinals  NYSPHSAA D2 Wrestling Championships  4998204132   \n",
       "2       Champ. Round 1  NYSPHSAA D2 Wrestling Championships  4998204132   \n",
       "3                  NaN  NYSPHSAA D2 Wrestling Championships  4998204132   \n",
       "4                  NaN  NYSPHSAA D2 Wrestling Championships  4998204132   \n",
       "...                ...                                  ...         ...   \n",
       "13647  3rd Place Match            `Coach Ken Baker Classic`  5040653132   \n",
       "13648    Quarterfinals            `Coach Ken Baker Classic`  5040653132   \n",
       "13649       Semifinals            `Coach Ken Baker Classic`  5040653132   \n",
       "13650  1st Place Match            `Coach Ken Baker Classic`  5040653132   \n",
       "13651    Cons. Round 1                         Mt.Mansville  5445973132   \n",
       "\n",
       "       Event Date     Winner Full Name    Loser Full Name  \n",
       "0        20200228    Spencer Dickinson        Cody Wilson  \n",
       "1        20200228    Spencer Dickinson    George Lebberes  \n",
       "2        20200228    Spencer Dickinson      Connor Bushey  \n",
       "3        20200228   Patrick Stinebaugh         Mason Bush  \n",
       "4        20200228       Liam Futterman       Xavier Giles  \n",
       "...           ...                  ...                ...  \n",
       "13647    20200131  Michael Vandenburgh   Marquize Barmore  \n",
       "13648    20200131         Kane Losurdo  Spencer Dickinson  \n",
       "13649    20200131         Conner Pesce  Spencer Dickinson  \n",
       "13650    20200131    Spencer Dickinson       Andrew Dumas  \n",
       "13651    20200201        Colby Shepard        Emma Morris  \n",
       "\n",
       "[13652 rows x 20 columns]"
      ]
     },
     "execution_count": 6,
     "metadata": {},
     "output_type": "execute_result"
    }
   ],
   "source": [
    "full_matches"
   ]
  },
  {
   "cell_type": "code",
   "execution_count": 7,
   "metadata": {},
   "outputs": [
    {
     "data": {
      "text/plain": [
       "(3896, 9)"
      ]
     },
     "execution_count": 7,
     "metadata": {},
     "output_type": "execute_result"
    }
   ],
   "source": [
    "full_wrestlers.shape # number of wrestlers, recorded wrestler variables"
   ]
  },
  {
   "cell_type": "code",
   "execution_count": 8,
   "metadata": {},
   "outputs": [
    {
     "data": {
      "text/plain": [
       "Index(['First Name', 'Last Name', 'Full Name', 'School Name', 'School Code',\n",
       "       'Weight Class', 'Wins', 'Losses', 'Matches'],\n",
       "      dtype='object')"
      ]
     },
     "execution_count": 8,
     "metadata": {},
     "output_type": "execute_result"
    }
   ],
   "source": [
    "full_wrestlers.columns"
   ]
  },
  {
   "cell_type": "code",
   "execution_count": 9,
   "metadata": {},
   "outputs": [
    {
     "data": {
      "text/html": [
       "<div>\n",
       "<style scoped>\n",
       "    .dataframe tbody tr th:only-of-type {\n",
       "        vertical-align: middle;\n",
       "    }\n",
       "\n",
       "    .dataframe tbody tr th {\n",
       "        vertical-align: top;\n",
       "    }\n",
       "\n",
       "    .dataframe thead th {\n",
       "        text-align: right;\n",
       "    }\n",
       "</style>\n",
       "<table border=\"1\" class=\"dataframe\">\n",
       "  <thead>\n",
       "    <tr style=\"text-align: right;\">\n",
       "      <th></th>\n",
       "      <th>First Name</th>\n",
       "      <th>Last Name</th>\n",
       "      <th>Full Name</th>\n",
       "      <th>School Name</th>\n",
       "      <th>School Code</th>\n",
       "      <th>Weight Class</th>\n",
       "      <th>Wins</th>\n",
       "      <th>Losses</th>\n",
       "      <th>Matches</th>\n",
       "    </tr>\n",
       "  </thead>\n",
       "  <tbody>\n",
       "    <tr>\n",
       "      <th>0</th>\n",
       "      <td>Julian</td>\n",
       "      <td>Tabb</td>\n",
       "      <td>Julian Tabb</td>\n",
       "      <td>White Plains Sr</td>\n",
       "      <td>WPS</td>\n",
       "      <td>152</td>\n",
       "      <td>2</td>\n",
       "      <td>2</td>\n",
       "      <td>4</td>\n",
       "    </tr>\n",
       "    <tr>\n",
       "      <th>1</th>\n",
       "      <td>Jacob</td>\n",
       "      <td>Schorsch</td>\n",
       "      <td>Jacob Schorsch</td>\n",
       "      <td>Horace Mann School</td>\n",
       "      <td>HMS</td>\n",
       "      <td>113</td>\n",
       "      <td>3</td>\n",
       "      <td>0</td>\n",
       "      <td>3</td>\n",
       "    </tr>\n",
       "    <tr>\n",
       "      <th>2</th>\n",
       "      <td>Edgar</td>\n",
       "      <td>Sandoval</td>\n",
       "      <td>Edgar Sandoval</td>\n",
       "      <td>Nyack Sr HS</td>\n",
       "      <td>NSH</td>\n",
       "      <td>120</td>\n",
       "      <td>0</td>\n",
       "      <td>10</td>\n",
       "      <td>10</td>\n",
       "    </tr>\n",
       "    <tr>\n",
       "      <th>3</th>\n",
       "      <td>Logan</td>\n",
       "      <td>Beebe</td>\n",
       "      <td>Logan Beebe</td>\n",
       "      <td>Granville Sr HS</td>\n",
       "      <td>GSH</td>\n",
       "      <td>195</td>\n",
       "      <td>0</td>\n",
       "      <td>8</td>\n",
       "      <td>8</td>\n",
       "    </tr>\n",
       "    <tr>\n",
       "      <th>4</th>\n",
       "      <td>Harry</td>\n",
       "      <td>Kelly</td>\n",
       "      <td>Harry Kelly</td>\n",
       "      <td>Carmel Sr</td>\n",
       "      <td>CASR</td>\n",
       "      <td>145</td>\n",
       "      <td>0</td>\n",
       "      <td>7</td>\n",
       "      <td>7</td>\n",
       "    </tr>\n",
       "    <tr>\n",
       "      <th>...</th>\n",
       "      <td>...</td>\n",
       "      <td>...</td>\n",
       "      <td>...</td>\n",
       "      <td>...</td>\n",
       "      <td>...</td>\n",
       "      <td>...</td>\n",
       "      <td>...</td>\n",
       "      <td>...</td>\n",
       "      <td>...</td>\n",
       "    </tr>\n",
       "    <tr>\n",
       "      <th>3891</th>\n",
       "      <td>Anthony</td>\n",
       "      <td>Holt</td>\n",
       "      <td>Anthony Holt</td>\n",
       "      <td>Chenango Valley Sr HS</td>\n",
       "      <td>CVSH</td>\n",
       "      <td>170</td>\n",
       "      <td>0</td>\n",
       "      <td>4</td>\n",
       "      <td>4</td>\n",
       "    </tr>\n",
       "    <tr>\n",
       "      <th>3892</th>\n",
       "      <td>Drew</td>\n",
       "      <td>Greco</td>\n",
       "      <td>Drew Greco</td>\n",
       "      <td>Warwick Valley HS</td>\n",
       "      <td>WVH</td>\n",
       "      <td>126</td>\n",
       "      <td>2</td>\n",
       "      <td>8</td>\n",
       "      <td>10</td>\n",
       "    </tr>\n",
       "    <tr>\n",
       "      <th>3893</th>\n",
       "      <td>Guy</td>\n",
       "      <td>Colabatistto</td>\n",
       "      <td>Guy Colabatistto</td>\n",
       "      <td>John Jay Sr -East Fishkill HS</td>\n",
       "      <td>JJSE</td>\n",
       "      <td>113</td>\n",
       "      <td>5</td>\n",
       "      <td>0</td>\n",
       "      <td>5</td>\n",
       "    </tr>\n",
       "    <tr>\n",
       "      <th>3894</th>\n",
       "      <td>Luke</td>\n",
       "      <td>Smeader</td>\n",
       "      <td>Luke Smeader</td>\n",
       "      <td>Hamburg Sr HS</td>\n",
       "      <td>HSH</td>\n",
       "      <td>126</td>\n",
       "      <td>2</td>\n",
       "      <td>6</td>\n",
       "      <td>8</td>\n",
       "    </tr>\n",
       "    <tr>\n",
       "      <th>3895</th>\n",
       "      <td>Travis</td>\n",
       "      <td>Mecking</td>\n",
       "      <td>Travis Mecking</td>\n",
       "      <td>Minisink Valley</td>\n",
       "      <td>MIVA</td>\n",
       "      <td>152</td>\n",
       "      <td>0</td>\n",
       "      <td>2</td>\n",
       "      <td>2</td>\n",
       "    </tr>\n",
       "  </tbody>\n",
       "</table>\n",
       "<p>3896 rows × 9 columns</p>\n",
       "</div>"
      ],
      "text/plain": [
       "     First Name     Last Name         Full Name  \\\n",
       "0        Julian          Tabb       Julian Tabb   \n",
       "1         Jacob      Schorsch    Jacob Schorsch   \n",
       "2         Edgar      Sandoval    Edgar Sandoval   \n",
       "3         Logan         Beebe       Logan Beebe   \n",
       "4         Harry         Kelly       Harry Kelly   \n",
       "...         ...           ...               ...   \n",
       "3891    Anthony          Holt      Anthony Holt   \n",
       "3892       Drew         Greco        Drew Greco   \n",
       "3893        Guy  Colabatistto  Guy Colabatistto   \n",
       "3894       Luke       Smeader      Luke Smeader   \n",
       "3895     Travis       Mecking    Travis Mecking   \n",
       "\n",
       "                        School Name School Code  Weight Class  Wins  Losses  \\\n",
       "0                   White Plains Sr         WPS           152     2       2   \n",
       "1                Horace Mann School         HMS           113     3       0   \n",
       "2                       Nyack Sr HS         NSH           120     0      10   \n",
       "3                   Granville Sr HS         GSH           195     0       8   \n",
       "4                         Carmel Sr        CASR           145     0       7   \n",
       "...                             ...         ...           ...   ...     ...   \n",
       "3891          Chenango Valley Sr HS        CVSH           170     0       4   \n",
       "3892              Warwick Valley HS         WVH           126     2       8   \n",
       "3893  John Jay Sr -East Fishkill HS        JJSE           113     5       0   \n",
       "3894                  Hamburg Sr HS         HSH           126     2       6   \n",
       "3895                Minisink Valley        MIVA           152     0       2   \n",
       "\n",
       "      Matches  \n",
       "0           4  \n",
       "1           3  \n",
       "2          10  \n",
       "3           8  \n",
       "4           7  \n",
       "...       ...  \n",
       "3891        4  \n",
       "3892       10  \n",
       "3893        5  \n",
       "3894        8  \n",
       "3895        2  \n",
       "\n",
       "[3896 rows x 9 columns]"
      ]
     },
     "execution_count": 9,
     "metadata": {},
     "output_type": "execute_result"
    }
   ],
   "source": [
    "full_wrestlers"
   ]
  },
  {
   "cell_type": "code",
   "execution_count": 10,
   "metadata": {},
   "outputs": [
    {
     "data": {
      "text/plain": [
       "(6630, 20)"
      ]
     },
     "execution_count": 10,
     "metadata": {},
     "output_type": "execute_result"
    }
   ],
   "source": [
    "# Drop matches decided by useless wincons like forfeit or bye (ASSUMPTION: these wincons don't imply wrestler ability)\n",
    "bad_wins = ['Forfeit','Injury Default','Medical Forfeit','Bye','Disqualified','Default','No Contest']\n",
    "win_filter = [win not in bad_wins for win in full_matches[\"Victory Type (L)\"]]\n",
    "MATCHES = full_matches.loc[win_filter].drop_duplicates().reset_index(drop=True) # dedupe seems to work now\n",
    "# Go back and check if dedupe is removing more than it should -- maybe not distinguishing multiple bouts on same day\n",
    "MATCHES.shape"
   ]
  },
  {
   "cell_type": "code",
   "execution_count": 11,
   "metadata": {},
   "outputs": [],
   "source": [
    "# Copy infoscrape function from Wrestling Tables notebook\n",
    "\n",
    "def infoscrape(fullname,df):\n",
    "    '''infoscrape receives full name of wrestler and matches dataframe\n",
    "    and collects wrestler info from dataset'''\n",
    "\n",
    "    # Initialize values of interest\n",
    "    weight_class = 0\n",
    "    wins = 0\n",
    "    losses = 0\n",
    "    matches = 0\n",
    "    school = ''\n",
    "    school_code = ''\n",
    "    first_name = ''\n",
    "    last_name = ''\n",
    "    \n",
    "    # Find observations corresponding to wrestler name\n",
    "    win_id = df['Winner Full Name'] == fullname\n",
    "    loss_id = df['Loser Full Name'] == fullname\n",
    "    winning_matches = df.loc[win_id,:]\n",
    "    losing_matches = df.loc[loss_id,:]\n",
    "    \n",
    "    # Split full name\n",
    "    first_name, last_name = fullname.split(' ',1)\n",
    "    \n",
    "    # Counting stats (should check if names show in correct columns for forfeits, byes, etc.)\n",
    "    wins = sum(win_id)\n",
    "    losses = sum(loss_id)\n",
    "    matches = wins+losses\n",
    "    \n",
    "    # Extract weight class, school, etc.\n",
    "    win_weight = winning_matches['Weight Class'].unique()\n",
    "    loss_weight = losing_matches['Weight Class'].unique()\n",
    "    \n",
    "    if win_weight.size > 0: # Avoiding 'if win_weight:' because it gives truth amibiguity warning\n",
    "        weight_class = int(win_weight[0])\n",
    "    else: # !!!Still need to add consideration for multiple weight classes!!!\n",
    "        weight_class = int(loss_weight[0])\n",
    "        \n",
    "    win_school = winning_matches['Winner School (L)'].unique()\n",
    "    win_school_code = winning_matches['Winner School (S)'].unique()\n",
    "    loss_school = losing_matches['Loser School (L)'].unique()\n",
    "    loss_school_code = losing_matches['Loser School (S)'].unique()\n",
    "    \n",
    "    if win_school.size > 0: # Avoiding 'if win_school:' because it gives truth amibiguity warning\n",
    "        school = win_school[0]\n",
    "        school_code = win_school_code[0]\n",
    "    else: \n",
    "        school = loss_school[0]\n",
    "        school_code = loss_school_code[0]\n",
    "        \n",
    "    # Return list of extracted data \n",
    "    return({'First Name':first_name,'Last Name':last_name,'Full Name':fullname,\n",
    "            'School Name':school,'School Code':school_code,\n",
    "            'Weight Class':weight_class,'Wins':wins,'Losses':losses,'Matches':matches})"
   ]
  },
  {
   "cell_type": "code",
   "execution_count": 12,
   "metadata": {},
   "outputs": [],
   "source": [
    "# Remake wrestlers df\n",
    "# Note: union of winner/loser full names is set of all wrestlers in dataset\n",
    "wrestlers = set(MATCHES['Winner Full Name']) | set(MATCHES['Loser Full Name'])\n",
    "wrestlers = [x for x in wrestlers if x==x] # remove nan, convert to list\n",
    "wrestler_data = [infoscrape(wrestler,MATCHES) for wrestler in wrestlers]\n",
    "WRESTLERS = pd.DataFrame(wrestler_data)"
   ]
  },
  {
   "cell_type": "code",
   "execution_count": 13,
   "metadata": {},
   "outputs": [
    {
     "data": {
      "text/plain": [
       "(3868, 9)"
      ]
     },
     "execution_count": 13,
     "metadata": {},
     "output_type": "execute_result"
    }
   ],
   "source": [
    "WRESTLERS.shape"
   ]
  },
  {
   "cell_type": "code",
   "execution_count": null,
   "metadata": {},
   "outputs": [],
   "source": []
  },
  {
   "cell_type": "code",
   "execution_count": null,
   "metadata": {},
   "outputs": [],
   "source": []
  },
  {
   "cell_type": "code",
   "execution_count": 81,
   "metadata": {},
   "outputs": [],
   "source": [
    "# Function to create train and test data split by date of wrestling events\n",
    "# Note: research paper trained on one weight class and tested on all the rest.\n",
    "# Why this is a big separate function: have to remake wrestlers dataframe from filtered matches dataframe\n",
    "\n",
    "def train_test_split(match_data, wrestler_data=None, split_method='date',\n",
    "                    earliest=None, latest=None, train_size=0.75):\n",
    "    '''train_test_split creates train and test data using given match data.\n",
    "    Can split by date range for train set or desired train data size (default is date).\n",
    "    Train_size is between 0 and 1. earliest/latest are integer dates in format YYYYMMDD.\n",
    "    Returns dict of match_train, match_test, wrestler_train, wrestler_test.'''\n",
    "    \n",
    "    event_dates = match_data[\"Event Date\"]\n",
    "    \n",
    "    # Default dates\n",
    "    if earliest is None:\n",
    "        earliest = min(event_dates)\n",
    "    if latest is None:\n",
    "        latest = max(event_dates)\n",
    "    \n",
    "    # Handle input exceptions        \n",
    "    if latest > max(event_dates):\n",
    "        raise ValueError('Invalid indexing: latest ({}) cannot be after most recent event ({})'\\\n",
    "                         .format(latest,max(event_dates)))\n",
    "    if earliest >= latest:\n",
    "        raise ValueError('Invalid indexing: earliest ({}) must be less than latest ({})'\\\n",
    "                         .format(earliest,latest))\n",
    "        \n",
    "    # Train-Test Split\n",
    "    \n",
    "    if split_method == 'size': # split by train_size\n",
    "        \n",
    "        indices = match_data.index.values\n",
    "        n = len(indices)\n",
    "        train_start = int(np.quantile(indices,q=1-train_size))\n",
    "        train_id = range(train_start,n)\n",
    "        test_id = range(0,train_start)\n",
    "        match_train = match_data.iloc[train_id,:]\n",
    "        match_test = match_data.iloc[test_id,:]\n",
    "        \n",
    "    if split_method == 'date': # split by date range\n",
    "        \n",
    "        date_range = range(earliest,latest+1)\n",
    "        train_bool = [date in date_range for date in event_dates]\n",
    "        test_bool = [not index for index in train_bool]\n",
    "        match_train = match_data.loc[train_bool]\n",
    "        match_test = match_data.loc[test_bool]\n",
    "        \n",
    "        \n",
    "    # Name wrestlers to train or test sets\n",
    "    wrestler_names_train = set(match_train['Winner Full Name']) | set(match_train['Loser Full Name'])\n",
    "    wrestler_names_train = [x for x in wrestler_names_train if x==x] # remove nan, convert to list\n",
    "    \n",
    "    # Not sure if making wrestler test set like this makes total sense but I'll do it for now\n",
    "    # Maybe because of cumulative stats, wrestler test set is always up-to-date full wrestler data?\n",
    "    wrestler_names_test = set(match_test['Winner Full Name']) | set(match_test['Loser Full Name'])\n",
    "    wrestler_names_test = [x for x in wrestler_names_test if x==x] # remove nan, convert to list\n",
    "\n",
    "    # Call infoscrape to construct wrestler dataframes\n",
    "    wrestler_train = [infoscrape(wrestler,match_train) for wrestler in wrestler_names_train]\n",
    "    wrestler_train = pd.DataFrame(wrestler_train)\n",
    "    wrestler_test = [infoscrape(wrestler,match_test) for wrestler in wrestler_names_test]\n",
    "    wrestler_test = pd.DataFrame(wrestler_test)\n",
    "    \n",
    "    # Store train/test splits in dict\n",
    "    train_test_dict = {\"match_train\":match_train,\"match_test\":match_test,\n",
    "                      \"wrestler_train\":wrestler_train,\"wrestler_test\":wrestler_test}\n",
    "    \n",
    "    return(train_test_dict)"
   ]
  },
  {
   "cell_type": "code",
   "execution_count": null,
   "metadata": {},
   "outputs": [],
   "source": []
  },
  {
   "cell_type": "code",
   "execution_count": 15,
   "metadata": {},
   "outputs": [],
   "source": [
    "def closest(arr, K): \n",
    "    '''returns the item in arr closest to the value K'''\n",
    "    idx = (np.abs(arr - K)).argmin() \n",
    "    return(arr[idx])"
   ]
  },
  {
   "cell_type": "code",
   "execution_count": 90,
   "metadata": {},
   "outputs": [],
   "source": [
    "def win_perc_pred(wrestler1,wrestler2,wrestler_train,wrestler_test,match_train,match_test):\n",
    "    '''win_perc_pred makes a simple prediction that the winner of a match between\n",
    "    wrestler1 and wrestler2 will be the wrestler with the higher win percentage. Uses wrestlers' fullnames.'''\n",
    "    \n",
    "    # Note: this predictor doesn't use match data for now, but I want to \n",
    "    # keep the algorithm inputs consistent for evaluation --> alg  args dict\n",
    "    \n",
    "    # log_dict to track when defaulting to school WP or matches WP, or other info tidbits\n",
    "    \n",
    "    # add confidence measure based on difference in WPs\n",
    "    \n",
    "    # Wrestler 1\n",
    "    wrestler1_bool = wrestler_train[\"Full Name\"]==wrestler1 # should add school clarification step for same names\n",
    "    \n",
    "    if sum(wrestler1_bool) == 0: # wrestler not in train set, try to use their school's average WP\n",
    "        \n",
    "        wrestler1_bool = wrestler_test[\"Full Name\"]==wrestler1\n",
    "        school = wrestler_test.loc[wrestler1_bool][\"School Name\"].values[0]\n",
    "            \n",
    "        if sum(wrestler_train[\"School Name\"]==school) == 0: # No other wrestlers from school in data :( \n",
    "            # Try using average win perc of all wrestlers with same number of matches (experience counts!)\n",
    "            \n",
    "            test_match_num = wrestler_test.loc[wrestler1_bool][\"Matches\"].values[0]\n",
    "            wrestlers_by_matches = wrestler_train.groupby(\"Matches\")\n",
    "            wins_by_match = wrestlers_by_matches[\"Wins\"].mean()\n",
    "            train_match_num = closest(wins_by_match.index.values,test_match_num)            \n",
    "            win_perc_1 = wins_by_match[train_match_num] / train_match_num\n",
    "            \n",
    "        else: # School WP\n",
    "            wrestlers_by_school = wrestler_train.groupby(\"School Name\")\n",
    "            win_perc_1 = wrestlers_by_school[\"Wins\"].mean()[school] / wrestlers_by_school[\"Matches\"].mean()[school]\n",
    "\n",
    "    else: # wrestler 1 in train set, has their own WP\n",
    "        win_perc_1 = wrestler_train.loc[wrestler1_bool][\"Wins\"] / wrestler_train.loc[wrestler1_bool][\"Matches\"]\n",
    "        win_perc_1 = win_perc_1.values[0]\n",
    "\n",
    "        \n",
    "    # Wrestler 2\n",
    "    wrestler2_bool = wrestler_train[\"Full Name\"]==wrestler2 # should add school clarification step for same names\n",
    "    \n",
    "    if sum(wrestler2_bool) == 0: # wrestler not in train set, try to use their school's average WP\n",
    "    \n",
    "        wrestler2_bool = wrestler_test[\"Full Name\"]==wrestler2\n",
    "        school = wrestler_test.loc[wrestler2_bool][\"School Name\"].values[0]\n",
    "        \n",
    "        if sum(wrestler_train[\"School Name\"]==school) == 0: # No other wrestlers from school in data :( \n",
    "            # Try using average win perc of all wrestlers with same/closest number of matches (experience counts!)\n",
    "\n",
    "            test_match_num = wrestler_test.loc[wrestler2_bool][\"Matches\"].values[0]\n",
    "            wrestlers_by_matches = wrestler_train.groupby(\"Matches\")\n",
    "            wins_by_match = wrestlers_by_matches[\"Wins\"].mean()\n",
    "            train_match_num = closest(wins_by_match.index.values,test_match_num)            \n",
    "            win_perc_2 = wins_by_match[train_match_num] / train_match_num\n",
    "        \n",
    "        else: # School WP\n",
    "            wrestlers_by_school = wrestler_train.groupby(\"School Name\")\n",
    "            win_perc_2 = wrestlers_by_school[\"Wins\"].mean()[school] / wrestlers_by_school[\"Matches\"].mean()[school]\n",
    "            \n",
    "    else: # wrestler 2 in train set, has their own WP\n",
    "        win_perc_2 = wrestler_train.loc[wrestler2_bool][\"Wins\"] / wrestler_train.loc[wrestler2_bool][\"Matches\"]\n",
    "        win_perc_2 = win_perc_2.values[0]\n",
    "\n",
    "    \n",
    "    # Do we want a minimal difference to declare a decision?\n",
    "    wp_diff = abs(win_perc_1 - win_perc_2) \n",
    "    # Reformat this into a more general confidence measure -> e.g. 0.0-0.25 == \"*\", 0.25-0.5 == \"**\", etc.\n",
    "    \n",
    "    if win_perc_1 > win_perc_2:\n",
    "        return({\"Winner\":wrestler1,\"Confidence\":wp_diff})\n",
    "    elif win_perc_1 == win_perc_2:\n",
    "        return({\"Winner\":None,\"Confidence\":wp_diff}) # TODO: Track these in validation\n",
    "    else:\n",
    "        return({\"Winner\":wrestler2,\"Confidence\":wp_diff})"
   ]
  },
  {
   "cell_type": "code",
   "execution_count": 17,
   "metadata": {},
   "outputs": [],
   "source": [
    "# Elo\n",
    "# Use groupby method on wrestler/match data to get initial values for unranked players?\n",
    "# Determine ratings by train data; maybe check which update frequency works best for prediction?\n",
    "\n",
    "# General idea:\n",
    "# Doesn't need two specific wrestlers; can form elo rankings just off wrestlers+matches train/test sets\n",
    "# Can then accept two wrestlers to see whose elo ranking is higher and get predicted winner\n",
    "# So the rankings are essentially defined by the train set cutoff\n",
    "\n",
    "# Need to consider what initial ranking values should be for different wrestlers\n",
    "## Could just start every wrestler off with same initial ranking\n",
    "## Can take whole train set, group by team names, and form initial rankings for each player based on team rankings?\n",
    "#### feels kind of contrived, how would I determine the initial rating a team deserves?\n",
    "#### could have t distinct elo rankings, t is number of teams, and assign best ranking to best team by... win percentage?\n",
    "## Remember that wrestler in test set may not be in train set, needs default value as well\n",
    "\n",
    "# Notes/Thoughts:\n",
    "# Rank wrestlers as a whole or within their weight class?\n",
    "# "
   ]
  },
  {
   "cell_type": "code",
   "execution_count": 18,
   "metadata": {},
   "outputs": [],
   "source": [
    "def elo_matchups(match_train):\n",
    "    \n",
    "    train_matchups = list()\n",
    "    \n",
    "    for idx, row in match_train.iterrows():\n",
    "        train_matchups.append((\n",
    "            row['Winner Full Name'],\n",
    "            row['Loser Full Name']\n",
    "        ))\n",
    "        \n",
    "    return(train_matchups)"
   ]
  },
  {
   "cell_type": "code",
   "execution_count": 19,
   "metadata": {},
   "outputs": [],
   "source": [
    "def elote_func(a, b): # Currenly trivial since winner is already known to be first entry, a\n",
    "    return True"
   ]
  },
  {
   "cell_type": "code",
   "execution_count": 20,
   "metadata": {},
   "outputs": [],
   "source": [
    "# Elo support provided via elote package by Will McGinnis @ wdm0006 on GitHub\n",
    "# Remember to make this input a generic alg_args dict when that gets changed\n",
    "\n",
    "def elo_rank(match_train,initial=1000,K=225):\n",
    "    '''elo_rank takes in match data along with elo tuning params and returns an ordered ranking of wrestlers\n",
    "    along with the saved state of the elo arena'''\n",
    "    \n",
    "    # Put matches in true date order (date format is YYYYMMDD)\n",
    "    match_train.sort_values(by=\"Event Date\",inplace=True)\n",
    "    \n",
    "    # Form train matchups. For this, winner will always be first listed in each matchup.\n",
    "    train_matchups = elo_matchups(match_train)\n",
    "    \n",
    "    # Create arena and process train matches\n",
    "    arena = LambdaArena(elote_func)\n",
    "    arena.set_competitor_class_var('_k_factor',K)\n",
    "    arena.set_competitor_class_var('_base_rating',initial)\n",
    "    arena.tournament(train_matchups)\n",
    "    \n",
    "    \n",
    "    # Return rankings and arena, post-train matches\n",
    "    rankings = sorted(arena.leaderboard(), reverse=True, key=lambda x: x.get('rating'))\n",
    "    saved_state = arena.export_state()\n",
    "    return({\"Rankings\":rankings,\n",
    "            \"Saved Arena\":saved_state})\n",
    "\n"
   ]
  },
  {
   "cell_type": "code",
   "execution_count": 41,
   "metadata": {},
   "outputs": [],
   "source": [
    "# Make some potentially useful elo ranking dictionaries\n",
    "\n",
    "def elo_rank_dicts(raw_rankings):\n",
    "    \n",
    "    wrestlers_with_rankings = {} # keys are wrestlers, values are (rankings,ratings)\n",
    "    rankings_with_wrestlers = {} # keys are rankings, (wrestlers,ratings) are values\n",
    "\n",
    "    for index, comp_dict in enumerate(raw_rankings, start=1):\n",
    "        rank = index\n",
    "        wrestler,rating = comp_dict.values()\n",
    "        rating = round(rating,3)\n",
    "        wrestlers_with_rankings[wrestler] = (rank,rating)\n",
    "        rankings_with_wrestlers[rank] = (wrestler,rating)\n",
    "        \n",
    "    return({\"Ranked Wrestlers\":wrestlers_with_rankings,\n",
    "            \"Named Rankings\":rankings_with_wrestlers})"
   ]
  },
  {
   "cell_type": "code",
   "execution_count": 91,
   "metadata": {},
   "outputs": [],
   "source": [
    "def elo_pred(test_matchups,wrestler_train,wrestler_test,match_train,match_test): # alg_args please\n",
    "    '''elo_pred predicts the winner of a bout to be the wrestler with the higher elo rating. Performs \n",
    "    predictions on all test matchups at once.'''\n",
    "    \n",
    "    \n",
    "    # Raw rankings\n",
    "    elo_rank_output = elo_rank(match_train)\n",
    "    elo_rankings = elo_rank_output[\"Rankings\"]\n",
    "    \n",
    "    # Nicer dicts\n",
    "    nice_dicts = elo_rank_dicts(elo_rankings)\n",
    "    ranked_wrestlers = nice_dicts[\"Ranked Wrestlers\"]\n",
    "    named_rankings = nice_dicts[\"Named Rankings\"]\n",
    "    \n",
    "    ## initial_state arg for arena call doesn't seem to work, commented out dependent code and implemented temp solution\n",
    "    \n",
    "    # Extract,implement arena info \n",
    "    #saved_state = elo_rank_output[\"Saved Arena\"]\n",
    "    #arena = LambdaArena(elote_func,initial_state=saved_state)\n",
    "    \n",
    "    # Simulate wrestlers' bout\n",
    "    #winprob1 = arena.expected_score(wrestler1,wrestler2) # probability of wrestler1 beating wrestler2\n",
    "    # Do we want a minimal difference to declare a decision?\n",
    "    # Can reformat this into a more general confidence measure\n",
    "    #prob_diff = abs(2*(winprob1 - 0.5))\n",
    "\n",
    "    \n",
    "    #if winprob1 > 0.5:\n",
    "    #    return({\"Winner\":wrestler1,\"Confidence\":prob_diff})\n",
    "    #elif winprob1 == 0.5:\n",
    "    #    return({\"Winner\":None,\"Confidence\":prob_diff}) # TODO: Track these in validation\n",
    "    #else:\n",
    "    #    return({\"Winner\":wrestler2,\"Confidence\":prob_diff})\n",
    "    \n",
    "    \n",
    "    # Temp solution\n",
    "    pred_outputs = [] # list of dicts, each with two keys, 'Winner' and 'Confidence'\n",
    "    default_rating = np.median([pair[1] for pair in ranked_wrestlers.values()]) # use median rating for default guess\n",
    "    \n",
    "    for matchup in test_matchups:\n",
    "        \n",
    "        output_dict = {}\n",
    "        \n",
    "        wrestler1 = matchup[0]\n",
    "        wrestler2 = matchup[1]\n",
    "    \n",
    "        if wrestler1 not in ranked_wrestlers.keys():\n",
    "            rating1 = default_rating\n",
    "        else:\n",
    "            rating1 = ranked_wrestlers[wrestler1][1]\n",
    "\n",
    "        if wrestler2 not in ranked_wrestlers.keys():\n",
    "            rating2 = default_rating\n",
    "        else:\n",
    "            rating2 = ranked_wrestlers[wrestler2][1]\n",
    "            \n",
    "        rating_diff = abs(rating1-rating2) # need to make this a comparable confidence format; see Win Percentage Pred function\n",
    "        output_dict['Confidence'] = rating_diff\n",
    "            \n",
    "        # Check rankings to see what inequality sign I want here    \n",
    "        \n",
    "        if rating1 > rating2: # Wrestler 1 wins\n",
    "            output_dict['Winner'] = wrestler1\n",
    "        elif rating1==rating2: # No decision, add tracking for these in validation\n",
    "            output_dict['Winner'] = None\n",
    "        else: # Wrestler 2 wins\n",
    "            output_dict['Winner'] = wrestler2\n",
    "            \n",
    "        pred_outputs.append(output_dict)\n",
    "            \n",
    "    return(pred_outputs)\n",
    "    "
   ]
  },
  {
   "cell_type": "code",
   "execution_count": null,
   "metadata": {},
   "outputs": [],
   "source": []
  },
  {
   "cell_type": "code",
   "execution_count": 92,
   "metadata": {},
   "outputs": [],
   "source": [
    "# Give pred algorithms attributes so that the alogorithm tester can test them differently (for efficiency)\n",
    "# Can also probably just work test_method into algorithm args\n",
    "setattr(win_perc_pred,'test_method','loop') # loop because win_perc_pred predicts one matchup at a time\n",
    "setattr(elo_pred,'test_method','batch') # batch because elo_pred can rank everyone and predict in one go"
   ]
  },
  {
   "cell_type": "code",
   "execution_count": null,
   "metadata": {},
   "outputs": [],
   "source": []
  },
  {
   "cell_type": "code",
   "execution_count": 74,
   "metadata": {},
   "outputs": [],
   "source": [
    "def matchmaker(match_test):\n",
    "    '''matchmaker takes in match test data and returns a list of \n",
    "    the associated wrestler matchup pairs'''\n",
    "    \n",
    "    \n",
    "    test_matchups = []\n",
    "    \n",
    "    for i in range(0,match_test.shape[0]):\n",
    "        match = match_test.iloc[i]\n",
    "        w1 = match[\"Winner Full Name\"]\n",
    "        w2 = match[\"Loser Full Name\"]\n",
    "        \n",
    "        # nan entry -> just have wrestler go against himself for now (should result in no winner)\n",
    "        # no option for both nan, but that is a datapoint I don't even want\n",
    "        if w1!=w1:\n",
    "            w1 = w2\n",
    "        elif w2!=w2:\n",
    "            w2 = w1\n",
    "        \n",
    "        test_matchups.append((w1,w2)) # winner is first entry in each matchup tuple for testing\n",
    "        \n",
    "    return(test_matchups)"
   ]
  },
  {
   "cell_type": "code",
   "execution_count": 65,
   "metadata": {},
   "outputs": [],
   "source": [
    "def test_algorithm(algorithm,match_train,match_test,wrestler_train,wrestler_test):\n",
    "    '''test_algorithm implements a given algorithm using given wrestler and match \n",
    "    train/test data and returns prediction accuracy'''\n",
    "    \n",
    "    # Extract matchups from test matches\n",
    "    test_matchups = matchmaker(match_test)\n",
    "    \n",
    "    # Extract test_method attribute from algorithm\n",
    "    test_method = algorithm.test_method\n",
    "\n",
    "    # True and predicted winners\n",
    "    true_winners = match_test[\"Winner Full Name\"]\n",
    "    \n",
    "    if test_method == 'batch': # Elo test\n",
    "        pred_output = algorithm(test_matchups,wrestler_train,wrestler_test,match_train,match_test)\n",
    "    else: # WP test\n",
    "        pred_output = [algorithm(W1,W2,wrestler_train,wrestler_test,match_train,match_test) for W1,W2 in test_matchups]\n",
    "        \n",
    "    pred_winners = [output[\"Winner\"] for output in pred_output]\n",
    "    pred_confidences = [output[\"Confidence\"] for output in pred_output] # Needs normalization for comparison b/t algs\n",
    "    \n",
    "    # Calculate prediction accuracy, save incorrect pred info\n",
    "    no_decision_bool = [pred is None for pred in pred_winners]\n",
    "    no_decisions = sum(no_decision_bool)\n",
    "    no_decision_preds = match_test.loc[no_decision_bool,:]\n",
    "    pred_results = true_winners == pred_winners\n",
    "    incorrect_preds = match_test.loc[true_winners != pred_winners,:]\n",
    "    n = len(pred_results)\n",
    "    correct = sum(pred_results)\n",
    "    incorrect = n - correct\n",
    "    pred_accuracy = pred_results.mean()\n",
    "    \n",
    "    return({\"Accuracy\":pred_accuracy,\"NumCorrect\":correct,\"NumIncorrect\":incorrect,\"NumUndecided\":no_decisions,\"N\":n,\n",
    "           \"WrongPreds\":incorrect_preds,\"UndecidedPreds\":no_decision_preds,\"PredConfidences\":pred_confidences})"
   ]
  },
  {
   "cell_type": "code",
   "execution_count": null,
   "metadata": {},
   "outputs": [],
   "source": []
  },
  {
   "cell_type": "code",
   "execution_count": null,
   "metadata": {},
   "outputs": [],
   "source": []
  },
  {
   "cell_type": "code",
   "execution_count": 66,
   "metadata": {},
   "outputs": [],
   "source": [
    "# See if functions do their job"
   ]
  },
  {
   "cell_type": "code",
   "execution_count": 87,
   "metadata": {},
   "outputs": [],
   "source": [
    "# Define train/test sets\n",
    "\n",
    "# Should probably scrape by event date, especially for elo\n",
    "\n",
    "train_test_dict = train_test_split(MATCHES,latest=20200215,split_method='date') # takes a minute because infoscrape function\n",
    "match_train = train_test_dict[\"match_train\"]\n",
    "wrestler_train = train_test_dict[\"wrestler_train\"]\n",
    "match_test = train_test_dict[\"match_test\"]\n",
    "wrestler_test = train_test_dict[\"wrestler_test\"]"
   ]
  },
  {
   "cell_type": "code",
   "execution_count": null,
   "metadata": {},
   "outputs": [],
   "source": []
  },
  {
   "cell_type": "code",
   "execution_count": 99,
   "metadata": {},
   "outputs": [
    {
     "name": "stderr",
     "output_type": "stream",
     "text": [
      "C:\\Users\\colum\\Anaconda3\\envs\\webscraping\\lib\\site-packages\\ipykernel_launcher.py:8: SettingWithCopyWarning: \n",
      "A value is trying to be set on a copy of a slice from a DataFrame\n",
      "\n",
      "See the caveats in the documentation: https://pandas.pydata.org/pandas-docs/stable/user_guide/indexing.html#returning-a-view-versus-a-copy\n",
      "  \n",
      "100%|██████████| 6430/6430 [00:00<00:00, 62201.04it/s]\n"
     ]
    }
   ],
   "source": [
    "# Test algorithms: single eval\n",
    "# Note: create algorithm_args dict argument for algorithms and algorithm tester\n",
    "elo_pred_results = test_algorithm(elo_pred,match_train,match_test,wrestler_train,wrestler_test)\n",
    "wp_pred_results = test_algorithm(win_perc_pred,match_train,match_test,wrestler_train,wrestler_test)"
   ]
  },
  {
   "cell_type": "code",
   "execution_count": 100,
   "metadata": {},
   "outputs": [
    {
     "name": "stdout",
     "output_type": "stream",
     "text": [
      "WP Accuracy: 0.84\n",
      "Elo Accuracy: 0.88\n"
     ]
    }
   ],
   "source": [
    "print(\"WP Accuracy:\",wp_pred_results['Accuracy'])\n",
    "print(\"Elo Accuracy:\",elo_pred_results['Accuracy'])"
   ]
  },
  {
   "cell_type": "code",
   "execution_count": 116,
   "metadata": {},
   "outputs": [
    {
     "name": "stderr",
     "output_type": "stream",
     "text": [
      "C:\\Users\\colum\\Anaconda3\\envs\\webscraping\\lib\\site-packages\\ipykernel_launcher.py:8: SettingWithCopyWarning: \n",
      "A value is trying to be set on a copy of a slice from a DataFrame\n",
      "\n",
      "See the caveats in the documentation: https://pandas.pydata.org/pandas-docs/stable/user_guide/indexing.html#returning-a-view-versus-a-copy\n",
      "  \n",
      "100%|██████████| 4158/4158 [00:00<00:00, 106796.14it/s]\n",
      "100%|██████████| 4158/4158 [00:00<00:00, 78662.71it/s]\n",
      "100%|██████████| 6430/6430 [00:00<00:00, 93037.30it/s]\n",
      "100%|██████████| 6430/6430 [00:00<00:00, 77711.46it/s]\n",
      "100%|██████████| 6430/6430 [00:00<00:00, 44159.53it/s]\n"
     ]
    }
   ],
   "source": [
    "# Test algorithms; various training sizes\n",
    "# Note: Quantile function seems insufficient here due to lots of events on same date -- make better!\n",
    "train_sizes = [0.5,0.6,0.7,0.8,0.9]\n",
    "\n",
    "wp_results = {}\n",
    "elo_results = {}\n",
    "\n",
    "for size in train_sizes:\n",
    "    \n",
    "    latest = int(MATCHES['Event Date'].quantile(q=size))\n",
    "    train_test_dict = train_test_split(MATCHES,split_method='date',latest=latest)\n",
    "    match_train = train_test_dict[\"match_train\"]\n",
    "    wrestler_train = train_test_dict[\"wrestler_train\"]\n",
    "    match_test = train_test_dict[\"match_test\"]\n",
    "    wrestler_test = train_test_dict[\"wrestler_test\"]\n",
    "    \n",
    "    wp_pred_results = test_algorithm(win_perc_pred,match_train,match_test,wrestler_train,wrestler_test)\n",
    "    elo_pred_results = test_algorithm(elo_pred,match_train,match_test,wrestler_train,wrestler_test)\n",
    "    \n",
    "    wp_results[size] = wp_pred_results\n",
    "    elo_results[size] = elo_pred_results"
   ]
  },
  {
   "cell_type": "code",
   "execution_count": 117,
   "metadata": {},
   "outputs": [],
   "source": [
    "# Extract accuracy values\n",
    "wp_accuracy_dict = {}\n",
    "elo_accuracy_dict = {}\n",
    "\n",
    "for size in train_sizes:\n",
    "    wp_accuracy_dict[size] = wp_results[size]['Accuracy']\n",
    "    elo_accuracy_dict[size] = elo_results[size]['Accuracy']"
   ]
  },
  {
   "cell_type": "code",
   "execution_count": 118,
   "metadata": {},
   "outputs": [
    {
     "data": {
      "image/png": "[encoded data removed]",
      "text/plain": [
       "<Figure size 432x288 with 1 Axes>"
      ]
     },
     "metadata": {
      "needs_background": "light"
     },
     "output_type": "display_data"
    }
   ],
   "source": [
    "# Plot accuracy results: WP\n",
    "plt.bar(range(len(wp_accuracy_dict)), list(wp_accuracy_dict.values()), align='center')\n",
    "plt.xticks(range(len(wp_accuracy_dict)), list(wp_accuracy_dict.keys()))\n",
    "plt.title('Prediction Accuracy')\n",
    "plt.xlabel('Train Set Size')\n",
    "plt.ylabel('Accuracy')\n",
    "\n",
    "# Save fig\n",
    "plt.savefig('./Plots/WinPerc/win_perc_pred_accuracy.png')\n",
    "\n",
    "plt.show()"
   ]
  },
  {
   "cell_type": "code",
   "execution_count": 119,
   "metadata": {},
   "outputs": [
    {
     "data": {
      "image/png": "[encoded data removed]",
      "text/plain": [
       "<Figure size 432x288 with 1 Axes>"
      ]
     },
     "metadata": {
      "needs_background": "light"
     },
     "output_type": "display_data"
    }
   ],
   "source": [
    "# Plot accuracy results: Elo\n",
    "plt.bar(range(len(elo_accuracy_dict)), list(elo_accuracy_dict.values()), align='center')\n",
    "plt.xticks(range(len(elo_accuracy_dict)), list(elo_accuracy_dict.keys()))\n",
    "plt.title('Prediction Accuracy')\n",
    "plt.xlabel('Train Set Size')\n",
    "plt.ylabel('Accuracy')\n",
    "\n",
    "# Save fig\n",
    "plt.savefig('./Plots/Elo/elo_pred_accuracy.png')\n",
    "\n",
    "plt.show()\n",
    "\n",
    "# Observation: Elo performs worse earlier, better later\n",
    "# Grain of salt: we don't even have the full season data, just late season"
   ]
  },
  {
   "cell_type": "code",
   "execution_count": null,
   "metadata": {},
   "outputs": [],
   "source": []
  },
  {
   "cell_type": "code",
   "execution_count": 120,
   "metadata": {},
   "outputs": [],
   "source": [
    "# Narrow diagnostics to just 0.7 train size results for now\n",
    "elo_pred_results = elo_results[0.7]\n",
    "wp_pred_results = wp_results[0.7]"
   ]
  },
  {
   "cell_type": "code",
   "execution_count": null,
   "metadata": {},
   "outputs": [],
   "source": []
  },
  {
   "cell_type": "code",
   "execution_count": 121,
   "metadata": {},
   "outputs": [
    {
     "data": {
      "image/png": "[encoded data removed]",
      "text/plain": [
       "<Figure size 432x288 with 1 Axes>"
      ]
     },
     "metadata": {
      "needs_background": "light"
     },
     "output_type": "display_data"
    }
   ],
   "source": [
    "# Show distribution of weight classes among wrestlers in incorrect pred cases\n",
    "# Misleading: should scale by num wrestler/matches in weight class\n",
    "# Note: make this a bar chart instead if possible\n",
    "elo_pred_results['WrongPreds'].hist(column=\"Weight Class\")\n",
    "plt.xlabel(\"Weight Class\")\n",
    "plt.ylabel(\"Number of Incorrect Predictions\")\n",
    "plt.title(\"Incorrect Elo Preds by Weight Class\")\n",
    "\n",
    "# Save fig\n",
    "plt.savefig('./Plots/Elo/incorrect_preds_weight_class.png')"
   ]
  },
  {
   "cell_type": "code",
   "execution_count": 124,
   "metadata": {},
   "outputs": [
    {
     "data": {
      "text/plain": [
       "Text(0.5, 1.0, 'Incorrect Elo Preds by Event Date')"
      ]
     },
     "execution_count": 124,
     "metadata": {},
     "output_type": "execute_result"
    },
    {
     "data": {
      "image/png": "[encoded data removed]",
      "text/plain": [
       "<Figure size 432x288 with 1 Axes>"
      ]
     },
     "metadata": {
      "needs_background": "light"
     },
     "output_type": "display_data"
    }
   ],
   "source": [
    "# Show distribution of weight classes among wrestlers in incorrect pred cases\n",
    "# Misleading: should scale by num wrestler/matches in weight class\n",
    "# Note: make this a bar chart instead if possible\n",
    "elo_pred_results['WrongPreds'].hist(column=\"Event Date\",bins=25)\n",
    "plt.xlabel(\"Event Date\")\n",
    "plt.ylabel(\"Number of Incorrect Predictions\")\n",
    "plt.title(\"Incorrect Elo Preds by Event Date\")\n",
    "# fix x axis scale"
   ]
  },
  {
   "cell_type": "code",
   "execution_count": null,
   "metadata": {},
   "outputs": [],
   "source": []
  },
  {
   "cell_type": "code",
   "execution_count": null,
   "metadata": {},
   "outputs": [],
   "source": []
  },
  {
   "cell_type": "code",
   "execution_count": 126,
   "metadata": {},
   "outputs": [
    {
     "data": {
      "image/png": "[encoded data removed]",
      "text/plain": [
       "<Figure size 432x288 with 1 Axes>"
      ]
     },
     "metadata": {
      "needs_background": "light"
     },
     "output_type": "display_data"
    }
   ],
   "source": [
    "# Show distribution of weight classes among wrestlers in incorrect pred cases\n",
    "# Misleading: should scale by num wrestler/matches in weight class\n",
    "# Note: make this a bar chart instead if possible\n",
    "wp_pred_results['WrongPreds'].hist(column=\"Weight Class\")\n",
    "plt.xlabel(\"Weight Class\")\n",
    "plt.ylabel(\"Number of Incorrect Predictions\")\n",
    "plt.title(\"Incorrect WP Preds by Weight Class\")\n",
    "\n",
    "# Save fig\n",
    "plt.savefig('./Plots/WinPerc/incorrect_preds_weight_class.png')"
   ]
  },
  {
   "cell_type": "code",
   "execution_count": 127,
   "metadata": {},
   "outputs": [
    {
     "data": {
      "text/plain": [
       "Text(0.5, 1.0, 'Incorrect WP Preds by Event Date')"
      ]
     },
     "execution_count": 127,
     "metadata": {},
     "output_type": "execute_result"
    },
    {
     "data": {
      "image/png": "[encoded data removed]",
      "text/plain": [
       "<Figure size 432x288 with 1 Axes>"
      ]
     },
     "metadata": {
      "needs_background": "light"
     },
     "output_type": "display_data"
    }
   ],
   "source": [
    "# Show distribution of weight classes among wrestlers in incorrect pred cases\n",
    "# Misleading: should scale by num wrestler/matches in weight class\n",
    "# Note: make this a bar chart instead if possible\n",
    "wp_pred_results['WrongPreds'].hist(column=\"Event Date\",bins=25)\n",
    "plt.xlabel(\"Event Date\")\n",
    "plt.ylabel(\"Number of Incorrect Predictions\")\n",
    "plt.title(\"Incorrect WP Preds by Event Date\")\n",
    "# fix x axis scale"
   ]
  },
  {
   "cell_type": "code",
   "execution_count": null,
   "metadata": {},
   "outputs": [],
   "source": []
  },
  {
   "cell_type": "code",
   "execution_count": null,
   "metadata": {},
   "outputs": [],
   "source": []
  },
  {
   "cell_type": "code",
   "execution_count": null,
   "metadata": {},
   "outputs": [],
   "source": []
  },
  {
   "cell_type": "code",
   "execution_count": null,
   "metadata": {},
   "outputs": [],
   "source": []
  },
  {
   "cell_type": "code",
   "execution_count": null,
   "metadata": {},
   "outputs": [],
   "source": []
  },
  {
   "cell_type": "code",
   "execution_count": null,
   "metadata": {},
   "outputs": [],
   "source": []
  },
  {
   "cell_type": "code",
   "execution_count": null,
   "metadata": {},
   "outputs": [],
   "source": []
  },
  {
   "cell_type": "code",
   "execution_count": 51,
   "metadata": {},
   "outputs": [
    {
     "data": {
      "image/png": "[encoded data removed]",
      "text/plain": [
       "<Figure size 432x288 with 1 Axes>"
      ]
     },
     "metadata": {
      "needs_background": "light"
     },
     "output_type": "display_data"
    }
   ],
   "source": [
    "# Show distribution of number of matches among wrestlers\n",
    "WRESTLERS.hist(column=\"Matches\")\n",
    "plt.xlabel(\"Number of Matches\")\n",
    "plt.ylabel(\"Number of Wrestlers\")\n",
    "plt.title(\"Distribution of Wrestlers by Number of Matches\")\n",
    "\n",
    "# Save fig\n",
    "plt.savefig('./Plots/EDA/wrestler_match_dist.png')\n",
    "\n",
    "# Vast majority of wrestlers have less than 15 matches"
   ]
  },
  {
   "cell_type": "code",
   "execution_count": 52,
   "metadata": {},
   "outputs": [
    {
     "data": {
      "image/png": "[encoded data removed]",
      "text/plain": [
       "<Figure size 432x288 with 1 Axes>"
      ]
     },
     "metadata": {
      "needs_background": "light"
     },
     "output_type": "display_data"
    }
   ],
   "source": [
    "# Show distribution of matches by weight class\n",
    "wrestlers_by_weight = WRESTLERS.groupby('Weight Class')\n",
    "wrestlers_by_weight.sum().plot.bar(y=\"Matches\")\n",
    "plt.title(\"Distribution of Matches by Weight Class\")\n",
    "\n",
    "# Save fig\n",
    "plt.savefig('./Plots/EDA/matches_by_weight_class.png')\n",
    "\n",
    "# Fairly balanced weight classes; flattened bell curve"
   ]
  },
  {
   "cell_type": "code",
   "execution_count": null,
   "metadata": {},
   "outputs": [],
   "source": [
    "# Check count of matches by victory type \n",
    "# There are nan entries for Victory Type (L)\n",
    "#matches_by_wintype = MATCHES.groupby('Victory Type (L)')\n",
    "#matches_by_wintype.describe()['Match ID'].plot.bar(y='count')\n",
    "#plt.title(\"Distribution of Matches by Victory Type\")\n",
    "\n",
    "# Save fig\n",
    "#plt.savefig('./Plots/matches_by_win_type.png')\n",
    "\n",
    "# Practically all victory types are fall or decision"
   ]
  },
  {
   "cell_type": "code",
   "execution_count": 53,
   "metadata": {},
   "outputs": [
    {
     "data": {
      "image/png": "[encoded data removed]",
      "text/plain": [
       "<Figure size 432x288 with 1 Axes>"
      ]
     },
     "metadata": {
      "needs_background": "light"
     },
     "output_type": "display_data"
    }
   ],
   "source": [
    "# Show distribution of avg win perc by matches\n",
    "wrestlers_by_matches = WRESTLERS.groupby('Matches')\n",
    "avg_wins = wrestlers_by_matches.mean()['Wins']\n",
    "num_matches = avg_wins.index.values\n",
    "win_percs = avg_wins / num_matches\n",
    "win_percs.plot.bar()\n",
    "plt.title(\"Average Win Percentage by Number of Matches\")\n",
    "\n",
    "# Save fig\n",
    "plt.savefig('./Plots/WinPerc/win_percs_by_matches.png')\n",
    "\n",
    "# Does win percentage increase with number of matches?\n",
    "# More matches means more experience, but also consider that you may only get more matches if you're already winning\n",
    "# Some positive correlation, as expected"
   ]
  },
  {
   "cell_type": "code",
   "execution_count": null,
   "metadata": {},
   "outputs": [],
   "source": []
  },
  {
   "cell_type": "code",
   "execution_count": null,
   "metadata": {},
   "outputs": [],
   "source": []
  }
 ],
 "metadata": {
  "kernelspec": {
   "display_name": "Python 3",
   "language": "python",
   "name": "python3"
  },
  "language_info": {
   "codemirror_mode": {
    "name": "ipython",
    "version": 3
   },
   "file_extension": ".py",
   "mimetype": "text/x-python",
   "name": "python",
   "nbconvert_exporter": "python",
   "pygments_lexer": "ipython3",
   "version": "3.7.6"
  }
 },
 "nbformat": 4,
 "nbformat_minor": 4
}
